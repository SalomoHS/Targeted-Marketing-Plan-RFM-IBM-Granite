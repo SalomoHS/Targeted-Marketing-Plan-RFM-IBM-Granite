{
 "cells": [
  {
   "cell_type": "code",
   "execution_count": 1,
   "id": "592d9aca",
   "metadata": {},
   "outputs": [],
   "source": [
    "import pandas as pd\n",
    "from llm import Granite\n",
    "import json"
   ]
  },
  {
   "cell_type": "markdown",
   "id": "434fc1de",
   "metadata": {},
   "source": [
    "# Data Preview"
   ]
  },
  {
   "cell_type": "markdown",
   "id": "cfbc0a11",
   "metadata": {},
   "source": [
    "- There is missing value in COD, Credit Card, Debit Card, and EFT column. \n",
    "- We dont need to handle the missing value. Due to Its normal because buyer must pick one of payment method to order."
   ]
  },
  {
   "cell_type": "code",
   "execution_count": 2,
   "id": "67b57112",
   "metadata": {},
   "outputs": [
    {
     "data": {
      "text/html": [
       "<div>\n",
       "<style scoped>\n",
       "    .dataframe tbody tr th:only-of-type {\n",
       "        vertical-align: middle;\n",
       "    }\n",
       "\n",
       "    .dataframe tbody tr th {\n",
       "        vertical-align: top;\n",
       "    }\n",
       "\n",
       "    .dataframe thead th {\n",
       "        text-align: right;\n",
       "    }\n",
       "</style>\n",
       "<table border=\"1\" class=\"dataframe\">\n",
       "  <thead>\n",
       "    <tr style=\"text-align: right;\">\n",
       "      <th></th>\n",
       "      <th>Order ID</th>\n",
       "      <th>Order Date</th>\n",
       "      <th>State</th>\n",
       "      <th>Name</th>\n",
       "      <th>Region</th>\n",
       "      <th>Sale Price</th>\n",
       "      <th>Cost per Item</th>\n",
       "      <th>COD</th>\n",
       "      <th>Credit Card</th>\n",
       "      <th>Debit Card</th>\n",
       "      <th>EFT</th>\n",
       "      <th>Quantity</th>\n",
       "      <th>Product Category</th>\n",
       "      <th>Product Name</th>\n",
       "    </tr>\n",
       "  </thead>\n",
       "  <tbody>\n",
       "    <tr>\n",
       "      <th>0</th>\n",
       "      <td>B-25757</td>\n",
       "      <td>2023-08-21</td>\n",
       "      <td>Florida</td>\n",
       "      <td>Reynolds</td>\n",
       "      <td>Southeast</td>\n",
       "      <td>106</td>\n",
       "      <td>13.00</td>\n",
       "      <td>7.0</td>\n",
       "      <td>NaN</td>\n",
       "      <td>NaN</td>\n",
       "      <td>NaN</td>\n",
       "      <td>7</td>\n",
       "      <td>Clothing</td>\n",
       "      <td>Hat</td>\n",
       "    </tr>\n",
       "    <tr>\n",
       "      <th>1</th>\n",
       "      <td>B-25757</td>\n",
       "      <td>2023-08-21</td>\n",
       "      <td>Florida</td>\n",
       "      <td>Reynolds</td>\n",
       "      <td>Southeast</td>\n",
       "      <td>14</td>\n",
       "      <td>9.00</td>\n",
       "      <td>NaN</td>\n",
       "      <td>1.0</td>\n",
       "      <td>NaN</td>\n",
       "      <td>NaN</td>\n",
       "      <td>1</td>\n",
       "      <td>Clothing</td>\n",
       "      <td>Hat</td>\n",
       "    </tr>\n",
       "    <tr>\n",
       "      <th>2</th>\n",
       "      <td>B-25757</td>\n",
       "      <td>2023-08-21</td>\n",
       "      <td>Florida</td>\n",
       "      <td>Reynolds</td>\n",
       "      <td>Southeast</td>\n",
       "      <td>165</td>\n",
       "      <td>45.00</td>\n",
       "      <td>NaN</td>\n",
       "      <td>3.0</td>\n",
       "      <td>NaN</td>\n",
       "      <td>NaN</td>\n",
       "      <td>3</td>\n",
       "      <td>Clothing</td>\n",
       "      <td>Scarf</td>\n",
       "    </tr>\n",
       "    <tr>\n",
       "      <th>3</th>\n",
       "      <td>B-25757</td>\n",
       "      <td>2023-08-21</td>\n",
       "      <td>Florida</td>\n",
       "      <td>Reynolds</td>\n",
       "      <td>Southeast</td>\n",
       "      <td>17</td>\n",
       "      <td>3.33</td>\n",
       "      <td>NaN</td>\n",
       "      <td>NaN</td>\n",
       "      <td>NaN</td>\n",
       "      <td>3.0</td>\n",
       "      <td>3</td>\n",
       "      <td>Clothing</td>\n",
       "      <td>Hat</td>\n",
       "    </tr>\n",
       "    <tr>\n",
       "      <th>4</th>\n",
       "      <td>B-25757</td>\n",
       "      <td>2023-08-21</td>\n",
       "      <td>Florida</td>\n",
       "      <td>Reynolds</td>\n",
       "      <td>Southeast</td>\n",
       "      <td>17</td>\n",
       "      <td>7.50</td>\n",
       "      <td>NaN</td>\n",
       "      <td>NaN</td>\n",
       "      <td>4.0</td>\n",
       "      <td>NaN</td>\n",
       "      <td>4</td>\n",
       "      <td>Clothing</td>\n",
       "      <td>Skirt</td>\n",
       "    </tr>\n",
       "  </tbody>\n",
       "</table>\n",
       "</div>"
      ],
      "text/plain": [
       "  Order ID Order Date    State      Name     Region  Sale Price  \\\n",
       "0  B-25757 2023-08-21  Florida  Reynolds  Southeast         106   \n",
       "1  B-25757 2023-08-21  Florida  Reynolds  Southeast          14   \n",
       "2  B-25757 2023-08-21  Florida  Reynolds  Southeast         165   \n",
       "3  B-25757 2023-08-21  Florida  Reynolds  Southeast          17   \n",
       "4  B-25757 2023-08-21  Florida  Reynolds  Southeast          17   \n",
       "\n",
       "   Cost per Item  COD  Credit Card  Debit Card  EFT  Quantity  \\\n",
       "0          13.00  7.0          NaN         NaN  NaN         7   \n",
       "1           9.00  NaN          1.0         NaN  NaN         1   \n",
       "2          45.00  NaN          3.0         NaN  NaN         3   \n",
       "3           3.33  NaN          NaN         NaN  3.0         3   \n",
       "4           7.50  NaN          NaN         4.0  NaN         4   \n",
       "\n",
       "  Product Category Product Name  \n",
       "0         Clothing         Hat   \n",
       "1         Clothing         Hat   \n",
       "2         Clothing       Scarf   \n",
       "3         Clothing         Hat   \n",
       "4         Clothing       Skirt   "
      ]
     },
     "execution_count": 2,
     "metadata": {},
     "output_type": "execute_result"
    }
   ],
   "source": [
    "all_order = pd.read_excel(\"data/all_order.xlsx\")\n",
    "all_order['Order Date'] = pd.to_datetime(all_order['Order Date'])\n",
    "all_order.head()"
   ]
  },
  {
   "cell_type": "code",
   "execution_count": 3,
   "id": "ad58b5bc",
   "metadata": {},
   "outputs": [
    {
     "name": "stdout",
     "output_type": "stream",
     "text": [
      "<class 'pandas.core.frame.DataFrame'>\n",
      "RangeIndex: 1587 entries, 0 to 1586\n",
      "Data columns (total 14 columns):\n",
      " #   Column            Non-Null Count  Dtype         \n",
      "---  ------            --------------  -----         \n",
      " 0   Order ID          1587 non-null   object        \n",
      " 1   Order Date        1587 non-null   datetime64[ns]\n",
      " 2   State             1587 non-null   object        \n",
      " 3   Name              1587 non-null   object        \n",
      " 4   Region            1587 non-null   object        \n",
      " 5   Sale Price        1587 non-null   int64         \n",
      " 6   Cost per Item     1587 non-null   float64       \n",
      " 7   COD               175 non-null    float64       \n",
      " 8   Credit Card       729 non-null    float64       \n",
      " 9   Debit Card        213 non-null    float64       \n",
      " 10  EFT               470 non-null    float64       \n",
      " 11  Quantity          1587 non-null   int64         \n",
      " 12  Product Category  1587 non-null   object        \n",
      " 13  Product Name      1587 non-null   object        \n",
      "dtypes: datetime64[ns](1), float64(5), int64(2), object(6)\n",
      "memory usage: 173.7+ KB\n"
     ]
    }
   ],
   "source": [
    "all_order.info()"
   ]
  },
  {
   "cell_type": "markdown",
   "id": "9608af57",
   "metadata": {},
   "source": [
    "# Add RFM (Recency, Frequency, Monetary) Features"
   ]
  },
  {
   "cell_type": "markdown",
   "id": "d7e014df",
   "metadata": {},
   "source": [
    "- Add RFM features\n",
    "- Sample 20% of customers, following the Pareto principle and to optimize costs when passing data to LLM models"
   ]
  },
  {
   "cell_type": "code",
   "execution_count": 3,
   "id": "e7b6147a",
   "metadata": {},
   "outputs": [
    {
     "data": {
      "text/html": [
       "<div>\n",
       "<style scoped>\n",
       "    .dataframe tbody tr th:only-of-type {\n",
       "        vertical-align: middle;\n",
       "    }\n",
       "\n",
       "    .dataframe tbody tr th {\n",
       "        vertical-align: top;\n",
       "    }\n",
       "\n",
       "    .dataframe thead th {\n",
       "        text-align: right;\n",
       "    }\n",
       "</style>\n",
       "<table border=\"1\" class=\"dataframe\">\n",
       "  <thead>\n",
       "    <tr style=\"text-align: right;\">\n",
       "      <th></th>\n",
       "      <th>Name</th>\n",
       "      <th>Recency</th>\n",
       "      <th>Frequency</th>\n",
       "      <th>Monetary</th>\n",
       "    </tr>\n",
       "  </thead>\n",
       "  <tbody>\n",
       "    <tr>\n",
       "      <th>0</th>\n",
       "      <td>Adams</td>\n",
       "      <td>256</td>\n",
       "      <td>3</td>\n",
       "      <td>5449</td>\n",
       "    </tr>\n",
       "    <tr>\n",
       "      <th>1</th>\n",
       "      <td>Aguilar</td>\n",
       "      <td>173</td>\n",
       "      <td>1</td>\n",
       "      <td>1688</td>\n",
       "    </tr>\n",
       "    <tr>\n",
       "      <th>2</th>\n",
       "      <td>Alexander</td>\n",
       "      <td>21</td>\n",
       "      <td>1</td>\n",
       "      <td>78</td>\n",
       "    </tr>\n",
       "    <tr>\n",
       "      <th>3</th>\n",
       "      <td>Allen</td>\n",
       "      <td>66</td>\n",
       "      <td>3</td>\n",
       "      <td>2223</td>\n",
       "    </tr>\n",
       "    <tr>\n",
       "      <th>4</th>\n",
       "      <td>Alvarado</td>\n",
       "      <td>116</td>\n",
       "      <td>1</td>\n",
       "      <td>38</td>\n",
       "    </tr>\n",
       "    <tr>\n",
       "      <th>...</th>\n",
       "      <td>...</td>\n",
       "      <td>...</td>\n",
       "      <td>...</td>\n",
       "      <td>...</td>\n",
       "    </tr>\n",
       "    <tr>\n",
       "      <th>331</th>\n",
       "      <td>Wong</td>\n",
       "      <td>93</td>\n",
       "      <td>1</td>\n",
       "      <td>3287</td>\n",
       "    </tr>\n",
       "    <tr>\n",
       "      <th>332</th>\n",
       "      <td>Wood</td>\n",
       "      <td>250</td>\n",
       "      <td>2</td>\n",
       "      <td>669</td>\n",
       "    </tr>\n",
       "    <tr>\n",
       "      <th>333</th>\n",
       "      <td>Woods</td>\n",
       "      <td>38</td>\n",
       "      <td>1</td>\n",
       "      <td>108</td>\n",
       "    </tr>\n",
       "    <tr>\n",
       "      <th>334</th>\n",
       "      <td>Wright</td>\n",
       "      <td>254</td>\n",
       "      <td>3</td>\n",
       "      <td>587</td>\n",
       "    </tr>\n",
       "    <tr>\n",
       "      <th>335</th>\n",
       "      <td>Young</td>\n",
       "      <td>271</td>\n",
       "      <td>3</td>\n",
       "      <td>958</td>\n",
       "    </tr>\n",
       "  </tbody>\n",
       "</table>\n",
       "<p>336 rows × 4 columns</p>\n",
       "</div>"
      ],
      "text/plain": [
       "          Name  Recency  Frequency  Monetary\n",
       "0        Adams      256          3      5449\n",
       "1      Aguilar      173          1      1688\n",
       "2    Alexander       21          1        78\n",
       "3        Allen       66          3      2223\n",
       "4     Alvarado      116          1        38\n",
       "..         ...      ...        ...       ...\n",
       "331       Wong       93          1      3287\n",
       "332       Wood      250          2       669\n",
       "333      Woods       38          1       108\n",
       "334     Wright      254          3       587\n",
       "335      Young      271          3       958\n",
       "\n",
       "[336 rows x 4 columns]"
      ]
     },
     "execution_count": 3,
     "metadata": {},
     "output_type": "execute_result"
    }
   ],
   "source": [
    "reference_date = all_order['Order Date'].max() + pd.Timedelta(days=1)\n",
    "rfm = all_order.groupby('Name').agg({\n",
    "    'Order Date': lambda x: (reference_date - x.max()).days,  \n",
    "    'Order ID': 'nunique',                                    \n",
    "    'Sale Price': 'sum'                                       \n",
    "}).reset_index()\n",
    "rfm.columns = ['Name', 'Recency', 'Frequency', 'Monetary']\n",
    "rfm"
   ]
  },
  {
   "cell_type": "code",
   "execution_count": 4,
   "id": "a85b4576",
   "metadata": {},
   "outputs": [
    {
     "data": {
      "text/html": [
       "<div>\n",
       "<style scoped>\n",
       "    .dataframe tbody tr th:only-of-type {\n",
       "        vertical-align: middle;\n",
       "    }\n",
       "\n",
       "    .dataframe tbody tr th {\n",
       "        vertical-align: top;\n",
       "    }\n",
       "\n",
       "    .dataframe thead th {\n",
       "        text-align: right;\n",
       "    }\n",
       "</style>\n",
       "<table border=\"1\" class=\"dataframe\">\n",
       "  <thead>\n",
       "    <tr style=\"text-align: right;\">\n",
       "      <th></th>\n",
       "      <th>Name</th>\n",
       "      <th>Recency</th>\n",
       "      <th>Frequency</th>\n",
       "      <th>Monetary</th>\n",
       "    </tr>\n",
       "  </thead>\n",
       "  <tbody>\n",
       "    <tr>\n",
       "      <th>72</th>\n",
       "      <td>Diaz</td>\n",
       "      <td>235</td>\n",
       "      <td>2</td>\n",
       "      <td>1201</td>\n",
       "    </tr>\n",
       "    <tr>\n",
       "      <th>110</th>\n",
       "      <td>Gray</td>\n",
       "      <td>286</td>\n",
       "      <td>2</td>\n",
       "      <td>233</td>\n",
       "    </tr>\n",
       "    <tr>\n",
       "      <th>298</th>\n",
       "      <td>Tran</td>\n",
       "      <td>92</td>\n",
       "      <td>1</td>\n",
       "      <td>188</td>\n",
       "    </tr>\n",
       "    <tr>\n",
       "      <th>108</th>\n",
       "      <td>Graham</td>\n",
       "      <td>184</td>\n",
       "      <td>1</td>\n",
       "      <td>74</td>\n",
       "    </tr>\n",
       "    <tr>\n",
       "      <th>277</th>\n",
       "      <td>Silva</td>\n",
       "      <td>332</td>\n",
       "      <td>1</td>\n",
       "      <td>291</td>\n",
       "    </tr>\n",
       "    <tr>\n",
       "      <th>...</th>\n",
       "      <td>...</td>\n",
       "      <td>...</td>\n",
       "      <td>...</td>\n",
       "      <td>...</td>\n",
       "    </tr>\n",
       "    <tr>\n",
       "      <th>193</th>\n",
       "      <td>Miller</td>\n",
       "      <td>26</td>\n",
       "      <td>4</td>\n",
       "      <td>4901</td>\n",
       "    </tr>\n",
       "    <tr>\n",
       "      <th>299</th>\n",
       "      <td>Tucker</td>\n",
       "      <td>218</td>\n",
       "      <td>1</td>\n",
       "      <td>418</td>\n",
       "    </tr>\n",
       "    <tr>\n",
       "      <th>295</th>\n",
       "      <td>Thomas</td>\n",
       "      <td>47</td>\n",
       "      <td>3</td>\n",
       "      <td>1777</td>\n",
       "    </tr>\n",
       "    <tr>\n",
       "      <th>328</th>\n",
       "      <td>Williamson</td>\n",
       "      <td>327</td>\n",
       "      <td>1</td>\n",
       "      <td>87</td>\n",
       "    </tr>\n",
       "    <tr>\n",
       "      <th>84</th>\n",
       "      <td>Fernandez</td>\n",
       "      <td>364</td>\n",
       "      <td>1</td>\n",
       "      <td>1678</td>\n",
       "    </tr>\n",
       "  </tbody>\n",
       "</table>\n",
       "<p>67 rows × 4 columns</p>\n",
       "</div>"
      ],
      "text/plain": [
       "           Name  Recency  Frequency  Monetary\n",
       "72         Diaz      235          2      1201\n",
       "110        Gray      286          2       233\n",
       "298        Tran       92          1       188\n",
       "108      Graham      184          1        74\n",
       "277       Silva      332          1       291\n",
       "..          ...      ...        ...       ...\n",
       "193      Miller       26          4      4901\n",
       "299      Tucker      218          1       418\n",
       "295      Thomas       47          3      1777\n",
       "328  Williamson      327          1        87\n",
       "84    Fernandez      364          1      1678\n",
       "\n",
       "[67 rows x 4 columns]"
      ]
     },
     "execution_count": 4,
     "metadata": {},
     "output_type": "execute_result"
    }
   ],
   "source": [
    "rfm_sampled = rfm.sample(frac=0.2, random_state=42)\n",
    "rfm_sampled"
   ]
  },
  {
   "cell_type": "markdown",
   "id": "b4d43339",
   "metadata": {},
   "source": [
    "# Analysis using IBM Granite"
   ]
  },
  {
   "cell_type": "markdown",
   "id": "a664f8eb",
   "metadata": {},
   "source": [
    "- Classify customer segment based on RFM\n",
    "- Identify customer profile based on segment\n",
    "- Determine buyer persona based on segment\n",
    "- Plan marketing strategies based on buyer persona\n",
    "\n",
    "*note*: All task is done by IBM Granite"
   ]
  },
  {
   "cell_type": "code",
   "execution_count": 5,
   "id": "b7ee3de7",
   "metadata": {},
   "outputs": [],
   "source": [
    "granite = Granite(all_order)"
   ]
  },
  {
   "cell_type": "markdown",
   "id": "d7092b68",
   "metadata": {},
   "source": [
    "### Classify customer segment"
   ]
  },
  {
   "cell_type": "code",
   "execution_count": 6,
   "id": "96eafbd9",
   "metadata": {},
   "outputs": [
    {
     "data": {
      "text/plain": [
       "{'Loyal Customers': ['Douglas', 'Duncan'],\n",
       " 'Big Spender': ['Arnold',\n",
       "  'Vargas',\n",
       "  'Perkins',\n",
       "  'Sanders',\n",
       "  'Sanchez',\n",
       "  'Lambert'],\n",
       " 'New Customers': ['Tran',\n",
       "  'Gray',\n",
       "  'Soto',\n",
       "  'Vargas',\n",
       "  'Herrera',\n",
       "  'Ruiz',\n",
       "  'Warren',\n",
       "  'Mason',\n",
       "  'Wheeler'],\n",
       " 'At Risk': ['Carpenter',\n",
       "  'Bishop',\n",
       "  'Frazier',\n",
       "  'Mills',\n",
       "  'Keller',\n",
       "  'Jimenez',\n",
       "  'Contreras',\n",
       "  'Castillo',\n",
       "  'Bryant',\n",
       "  'Martinez',\n",
       "  'Patterson',\n",
       "  'Hall',\n",
       "  'Schultz',\n",
       "  'Vasquez',\n",
       "  'Dunn',\n",
       "  'Marshall',\n",
       "  'Carter',\n",
       "  'Gutierrez',\n",
       "  'Cruz',\n",
       "  'Bryant',\n",
       "  'Martin',\n",
       "  'Wheeler',\n",
       "  'Coleman',\n",
       "  'Evans',\n",
       "  'Miller',\n",
       "  'Tucker',\n",
       "  'Thomas',\n",
       "  'Williamson'],\n",
       " 'Churned': []}"
      ]
     },
     "execution_count": 6,
     "metadata": {},
     "output_type": "execute_result"
    }
   ],
   "source": [
    "customer_categories = granite.classify_customer_segment(rfm_sampled)\n",
    "customer_categories"
   ]
  },
  {
   "cell_type": "code",
   "execution_count": null,
   "id": "3d0e33ac",
   "metadata": {},
   "outputs": [],
   "source": [
    "def assign_label(name):\n",
    "    labels = [label for label, names in customer_categories.items() if name in names]\n",
    "    return ', '.join(labels) if labels else 'Not Segmented'\n",
    "\n",
    "# Apply function\n",
    "all_order['Customer Segment'] = all_order['Name'].apply(assign_label)"
   ]
  },
  {
   "cell_type": "markdown",
   "id": "e776218c",
   "metadata": {},
   "source": [
    "| Customer Segment | Description |\n",
    "|-----------------|-------------|\n",
    "| Loyal Customers | Repeat buyers making regular purchases |\n",
    "| Big Spenders | High-value customers with less frequent but expensive purchases (average ~$500). |\n",
    "| New Customers | Entry-level buyers with low basket size (~$47). |\n",
    "| At Risk | Previously engaged customers who now show signs of drop-off, purchasing cheaper items in bulk but with low average value (~$35) |\n",
    "| Churned | High-value customers who have stopped purchasing altogether. |\n"
   ]
  },
  {
   "cell_type": "markdown",
   "id": "b0d525e1",
   "metadata": {},
   "source": [
    "### Identify customer profile"
   ]
  },
  {
   "cell_type": "code",
   "execution_count": null,
   "id": "4798adc2",
   "metadata": {},
   "outputs": [
    {
     "data": {
      "text/plain": [
       "{'Majority Region': 'West',\n",
       " 'Payment Method': {'Most': 'Credit Card', 'Least': 'EFT'},\n",
       " 'Product Category': {'Most': 'Clothing', 'Least': 'Electronics'},\n",
       " 'Product Name': {'Most': 'Hat', 'Least': 'Accessories'},\n",
       " 'Order Date': {'Most': '2023-10-01', 'Least': \"I don't know\"},\n",
       " 'Quantity': {'Most': 7, 'Least': 3},\n",
       " 'Cost per Item': {'Most': 4.71, 'Least': 9.0},\n",
       " 'Sale Price': {'Most': 45, 'Least': 21}}"
      ]
     },
     "execution_count": 17,
     "metadata": {},
     "output_type": "execute_result"
    }
   ],
   "source": [
    "at_risk = all_order[all_order['Customer Segment']=='At Risk']\n",
    "customer_at_risk = granite.get_customer_profile(at_risk)\n",
    "customer_at_risk"
   ]
  },
  {
   "cell_type": "code",
   "execution_count": null,
   "id": "8f75087b",
   "metadata": {},
   "outputs": [
    {
     "data": {
      "text/plain": [
       "{'Majority Region': 'Northeast',\n",
       " 'Payment Method': {'Most': 'Credit Card', 'Least': 'EFT'},\n",
       " 'Product Category': {'Most': 'Electronics', 'Least': 'Furniture'},\n",
       " 'Product Name': {'Most': 'Phones', 'Least': 'Bookcases'},\n",
       " 'Order Date': {'Most': '2023-05-20', 'Least': \"I don't know\"},\n",
       " 'Quantity': {'Most': '4.0', 'Least': '1.0'},\n",
       " 'Cost per Item': {'Most': '161.0', 'Least': '131.0'},\n",
       " 'Sale Price': {'Most': '785.0', 'Least': '258.0'}}"
      ]
     },
     "execution_count": 11,
     "metadata": {},
     "output_type": "execute_result"
    }
   ],
   "source": [
    "big_spender = all_order[all_order['Customer Segment']=='Big Spender']\n",
    "customer_big_spender = granite.get_customer_profile(big_spender)\n",
    "customer_big_spender"
   ]
  },
  {
   "cell_type": "code",
   "execution_count": null,
   "id": "2e38172b",
   "metadata": {},
   "outputs": [
    {
     "data": {
      "text/plain": [
       "{'Majority Region': 'Northeast',\n",
       " 'Payment Method': {'Most': 'Credit Card', 'Least': 'NaN'},\n",
       " 'Product Category': {'Most': 'Furniture', 'Least': 'NaN'},\n",
       " 'Product Name': {'Most': 'Bookcases', 'Least': 'NaN'},\n",
       " 'Order Date': {'Most': '2023-01-25', 'Least': 'NaN'},\n",
       " 'Quantity': {'Most': '2', 'Least': 'NaN'},\n",
       " 'Cost per Item': {'Most': '211.0', 'Least': 'NaN'},\n",
       " 'Sale Price': {'Most': '662', 'Least': 'NaN'}}"
      ]
     },
     "execution_count": 12,
     "metadata": {},
     "output_type": "execute_result"
    }
   ],
   "source": [
    "churned = all_order[all_order['Customer Segment']=='Churned']\n",
    "customer_churned = granite.get_customer_profile(churned)\n",
    "customer_churned "
   ]
  },
  {
   "cell_type": "code",
   "execution_count": null,
   "id": "31a3d848",
   "metadata": {},
   "outputs": [
    {
     "data": {
      "text/plain": [
       "{'Majority Region': 'Southeast',\n",
       " 'Payment Method': {'Most': 'Credit Card', 'Least': 'EFT'},\n",
       " 'Product Category': {'Most': 'Clothing', 'Least': 'Furniture'},\n",
       " 'Product Name': {'Most': 'Hat', 'Least': 'Bookcases'},\n",
       " 'Order Date': {'Most': '2023-02-01', 'Least': '2023-05-23, 2023-07-12'},\n",
       " 'Quantity': {'Most': '7', 'Least': '8'},\n",
       " 'Cost per Item': {'Most': 'NaN', 'Least': '3.0'},\n",
       " 'Sale Price': {'Most': '338', 'Least': '10'}}"
      ]
     },
     "execution_count": 14,
     "metadata": {},
     "output_type": "execute_result"
    }
   ],
   "source": [
    "loyal_customer = all_order[all_order['Customer Segment']=='Loyal Customers']\n",
    "customer_loyal_customer = granite.get_customer_profile(loyal_customer)\n",
    "customer_loyal_customer"
   ]
  },
  {
   "cell_type": "code",
   "execution_count": null,
   "id": "26173257",
   "metadata": {},
   "outputs": [
    {
     "data": {
      "text/plain": [
       "{'Majority Region': 'West',\n",
       " 'Payment Method': {'Most': 'EFT', 'Least': 'COD'},\n",
       " 'Product Category': {'Most': 'Clothing', 'Least': 'N/A'},\n",
       " 'Product Name': {'Most': 'Shirt', 'Least': 'N/A'},\n",
       " 'Order Date': {'Most': '2023-09-09', 'Least': 'N/A'},\n",
       " 'Quantity': {'Most': '2', 'Least': 'N/A'},\n",
       " 'Cost per Item': {'Most': '33.5', 'Least': 'N/A'},\n",
       " 'Sale Price': {'Most': '47', 'Least': 'N/A'}}"
      ]
     },
     "execution_count": 15,
     "metadata": {},
     "output_type": "execute_result"
    }
   ],
   "source": [
    "new_customer = all_order[all_order['Customer Segment']=='New Customers']\n",
    "customer_new_customer = granite.get_customer_profile(new_customer)\n",
    "customer_new_customer"
   ]
  },
  {
   "cell_type": "markdown",
   "id": "087c1e21",
   "metadata": {},
   "source": [
    "### Saving customer profile to JSON (Ignore)"
   ]
  },
  {
   "cell_type": "code",
   "execution_count": null,
   "id": "d98c301b",
   "metadata": {},
   "outputs": [],
   "source": [
    "json_string = json.dumps(customer_new_customer, indent=4)  \n",
    "\n",
    "with open(\"customer_profile/new_customer.json\", \"w\") as file:\n",
    "    json.dump(customer_new_customer, file, indent=4)"
   ]
  },
  {
   "cell_type": "code",
   "execution_count": null,
   "id": "180bbc6e",
   "metadata": {},
   "outputs": [],
   "source": [
    "json_string = json.dumps(customer_at_risk, indent=4) \n",
    "\n",
    "with open(\"customer_profile/at_risk_customer.json\", \"w\") as file:\n",
    "    json.dump(customer_at_risk, file, indent=4)"
   ]
  },
  {
   "cell_type": "code",
   "execution_count": null,
   "id": "13247bd6",
   "metadata": {},
   "outputs": [],
   "source": [
    "json_string = json.dumps(customer_loyal_customer, indent=4) \n",
    "\n",
    "with open(\"customer_profile/loyal_customer.json\", \"w\") as file:\n",
    "    json.dump(customer_loyal_customer, file, indent=4)"
   ]
  },
  {
   "cell_type": "code",
   "execution_count": null,
   "id": "059857d5",
   "metadata": {},
   "outputs": [],
   "source": [
    "json_string = json.dumps(customer_churned, indent=4)  \n",
    "\n",
    "with open(\"customer_profile/churned_customer.json\", \"w\") as file:\n",
    "    json.dump(customer_churned, file, indent=4)"
   ]
  },
  {
   "cell_type": "code",
   "execution_count": null,
   "id": "b29fb121",
   "metadata": {},
   "outputs": [],
   "source": [
    "json_string = json.dumps(customer_big_spender, indent=4)  \n",
    "\n",
    "with open(\"customer_profile/big_spender.json\", \"w\") as file:\n",
    "    json.dump(customer_big_spender, file, indent=4)"
   ]
  },
  {
   "cell_type": "markdown",
   "id": "e4e25581",
   "metadata": {},
   "source": [
    "### Customer profile summary"
   ]
  },
  {
   "cell_type": "code",
   "execution_count": 4,
   "id": "a4ca8f44",
   "metadata": {},
   "outputs": [],
   "source": [
    "import json\n",
    "with open('customer_profile/new_customer.json') as f:\n",
    "    new_customer_data = json.load(f)\n",
    "\n",
    "with open('customer_profile/loyal_customer.json') as f:\n",
    "    loyal_customer_data = json.load(f)\n",
    "\n",
    "with open('customer_profile/churned_customer.json') as f:\n",
    "    churned_customer_data = json.load(f)\n",
    "\n",
    "with open('customer_profile/big_spender_customer.json') as f:\n",
    "    big_spender_customer_data = json.load(f)\n",
    "\n",
    "with open('customer_profile/at_risk_customer.json') as f:\n",
    "    at_risk_customer_data = json.load(f)\n",
    "\n",
    "\n",
    "json_data = {\n",
    "    'new_customer': new_customer_data,\n",
    "    'loyal_customer': loyal_customer_data,\n",
    "    'churned_customer': churned_customer_data,\n",
    "    'big_spender_customer': big_spender_customer_data,\n",
    "    'at_risk_customer': at_risk_customer_data,\n",
    "}\n"
   ]
  },
  {
   "cell_type": "code",
   "execution_count": 6,
   "id": "250d3a3b",
   "metadata": {},
   "outputs": [
    {
     "data": {
      "text/plain": [
       "{'Loyal Customers': 'Southeast region, prefer Credit Card payment, most purchases are Clothing, Hats are most bought, average order date is 2023-02-01, average quantity is 7, cost per item varies, average sale price is 338.',\n",
       " 'Big Spender': 'Northeast region, prefer Credit Card payment, Electronics are most purchased, Phones are most bought, average order date is 2023-05-20, average quantity is 4, cost per item ranges from 131 to 161, average sale price ranges from 258 to 785.',\n",
       " 'New Customers': 'West region, prefer EFT payment, Clothing is most purchased, Shirts are most bought, average order date is 2023-09-09, average quantity is 2, cost per item is 33.5, average sale price is 47.',\n",
       " 'At Risk': 'West region, prefer Credit Card payment, Clothing is most purchased, Hats are most bought, average order date is 2023-10-01, average quantity is 7, cost per item ranges from 4.71 to 9, average sale price ranges from 21 to 45.',\n",
       " 'Churned': 'Northeast region, prefer Credit Card payment, Furniture is most purchased, Bookcases are most bought, average order date is 2023-01-25, average quantity is 2, cost per item is 211, average sale price is 662.'}"
      ]
     },
     "execution_count": 6,
     "metadata": {},
     "output_type": "execute_result"
    }
   ],
   "source": [
    "customer_profile_summary = granite.summarize_customer_profile(json_data)\n",
    "customer_profile_summary"
   ]
  },
  {
   "cell_type": "markdown",
   "id": "f287bf7f",
   "metadata": {},
   "source": [
    "| Customer Segment | Region | Payment Preference | Most Purchased Category | Most Bought Item | Avg Order Date | Avg Quantity | Cost per Item | Avg Sale Price |\n",
    "|-----------------|--------|-------------------|----------------------|-----------------|---------------|--------------|--------------|---------------|\n",
    "| Loyal Customers | Southeast | Credit Card | Clothing | Hats | 2023-02-01 | 7 | Varies | 338 |\n",
    "| Big Spender | Northeast | Credit Card | Electronics | Phones | 2023-05-20 | 4 | 131-161 | 258-785 |\n",
    "| New Customers | West | EFT | Clothing | Shirts | 2023-09-09 | 2 | 33.5 | 47 |\n",
    "| At Risk | West | Credit Card | Clothing | Hats | 2023-10-01 | 7 | 4.71-9 | 21-45 |\n",
    "| Churned | Northeast | Credit Card | Furniture | Bookcases | 2023-01-25 | 2 | 211 | 662 |\n"
   ]
  },
  {
   "cell_type": "markdown",
   "id": "7b620305",
   "metadata": {},
   "source": [
    "### Determine customer persona"
   ]
  },
  {
   "cell_type": "code",
   "execution_count": null,
   "id": "11fb43a0",
   "metadata": {},
   "outputs": [
    {
     "data": {
      "text/plain": [
       "{'Loyal Customers': {'persona_type': 'Repeat Buyer',\n",
       "  'key_traits': 'Southeast region, Credit Card payment, Consistent Clothing purchases, Hats are most bought, avg 7 items, moderate spending',\n",
       "  'average_purchase': '$338',\n",
       "  'buyer_characteristic': 'Brand-attached, Quality-focused'},\n",
       " 'Big Spender': {'persona_type': 'High-Value Customer',\n",
       "  'key_traits': 'Northeast region, Credit Card payment, Electronics purchases, Phones are most bought, avg 4 items, high spending',\n",
       "  'average_purchase': '$500',\n",
       "  'buyer_characteristic': 'Brand-attached, Quality-focused, Less price-sensitive'},\n",
       " 'New Customers': {'persona_type': 'Price-Sensitive Buyer',\n",
       "  'key_traits': 'West region, EFT payment, Clothing purchases, Shirts are most bought, avg 2 items, low spending',\n",
       "  'average_purchase': '$47',\n",
       "  'buyer_characteristic': 'Price-sensitive, Value-focused'},\n",
       " 'At Risk': {'persona_type': 'Declining Value Customer',\n",
       "  'key_traits': 'West region, Credit Card payment, Clothing purchases, Hats are most bought, avg 7 items, low spending',\n",
       "  'average_purchase': '$35',\n",
       "  'buyer_characteristic': 'Price-sensitive, Less brand-attached'},\n",
       " 'Churned': {'persona_type': 'Lost High-Value Customer',\n",
       "  'key_traits': 'Northeast region, Credit Card payment, Furniture purchases, Bookcases are most bought, avg 2 items, high spending',\n",
       "  'average_purchase': '$662',\n",
       "  'buyer_characteristic': 'Brand-attached, Quality-focused'}}"
      ]
     },
     "execution_count": 4,
     "metadata": {},
     "output_type": "execute_result"
    }
   ],
   "source": [
    "with open('customer_profile/summary.json') as f:\n",
    "    summary_customer_data = json.load(f)\n",
    "\n",
    "buyer_persona = granite.get_customer_persona(summary_customer_data)\n",
    "\n",
    "with open(\"buyer_persona/buyer_persona.json\", \"w\") as file:\n",
    "    json.dump(buyer_persona, file, indent=4)\n",
    "\n",
    "buyer_persona"
   ]
  },
  {
   "cell_type": "markdown",
   "id": "3e076b6a",
   "metadata": {},
   "source": [
    "| Customer Segment | Persona Type | Key Traits | Average Purchase | Buyer Characteristic |\n",
    "|-----------------|--------------|------------|------------------|---------------------|\n",
    "| Loyal Customers | Repeat Buyer | Southeast region, Credit Card payment, Consistent Clothing purchases, Hats are most bought, avg 7 items, moderate spending | $338 | Brand-attached, Quality-focused |\n",
    "| Big Spender | High-Value Customer | Northeast region, Credit Card payment, Electronics purchases, Phones are most bought, avg 4 items, high spending | $500 | Brand-attached, Quality-focused, Less price-sensitive |\n",
    "| New Customers | Price-Sensitive Buyer | West region, EFT payment, Clothing purchases, Shirts are most bought, avg 2 items, low spending | $47 | Price-sensitive, Value-focused |\n",
    "| At Risk | Declining Value Customer | West region, Credit Card payment, Clothing purchases, Hats are most bought, avg 7 items, low spending | $35 | Price-sensitive, Less brand-attached |\n",
    "| Churned | Lost High-Value Customer | Northeast region, Credit Card payment, Furniture purchases, Bookcases are most bought, avg 2 items, high spending | $662 | Brand-attached, Quality-focused |\n"
   ]
  },
  {
   "cell_type": "markdown",
   "id": "2514c339",
   "metadata": {},
   "source": [
    "### Plan marketing strategies"
   ]
  },
  {
   "cell_type": "code",
   "execution_count": null,
   "id": "fcf00269",
   "metadata": {},
   "outputs": [
    {
     "data": {
      "text/plain": [
       "{'Loyal Customers': 'Offer exclusive discounts on hats, loyalty program rewards, and new clothing line notifications',\n",
       " 'Big Spender': 'Promote new phone releases, exclusive access to sales, and premium customer service',\n",
       " 'New Customers': 'Provide introductory discounts, bundle deals on shirts, and free shipping offers',\n",
       " 'At Risk': 'Implement win-back campaigns with targeted discounts on hats, free shipping, and promotional bundles',\n",
       " 'Churned': 'Offer personalized re-engagement campaigns, high-value discounts on bookcases, and exclusive access to new furniture lines'}"
      ]
     },
     "execution_count": 4,
     "metadata": {},
     "output_type": "execute_result"
    }
   ],
   "source": [
    "with open('customer_persona.json') as f:\n",
    "    customer_persona_data = json.load(f)\n",
    "\n",
    "customer_persona_recommendation = granite.get_recommendation(customer_persona_data)\n",
    "customer_persona_recommendation"
   ]
  },
  {
   "cell_type": "markdown",
   "id": "310cf2bf",
   "metadata": {},
   "source": [
    "| Customer Segment | Recommended Marketing Strategies |\n",
    "|-----------------|----------------------------------|\n",
    "| Loyal Customers | - Offer exclusive discounts on hats<br>- Loyalty program rewards<br>- New clothing line notifications |\n",
    "| Big Spender | - Promote new phone releases<br>- Exclusive access to sales<br>- Premium customer service |\n",
    "| New Customers | - Provide introductory discounts<br>- Bundle deals on shirts<br>- Free shipping offers |\n",
    "| At Risk | - Implement win-back campaigns with targeted discounts on hats<br>- Free shipping<br>- Promotional bundles |\n",
    "| Churned | - Offer personalized re-engagement campaigns<br>- High-value discounts on bookcases<br>- Exclusive access to new furniture lines |\n"
   ]
  },
  {
   "cell_type": "code",
   "execution_count": null,
   "id": "0a90b861",
   "metadata": {},
   "outputs": [],
   "source": []
  }
 ],
 "metadata": {
  "kernelspec": {
   "display_name": "granite",
   "language": "python",
   "name": "python3"
  },
  "language_info": {
   "codemirror_mode": {
    "name": "ipython",
    "version": 3
   },
   "file_extension": ".py",
   "mimetype": "text/x-python",
   "name": "python",
   "nbconvert_exporter": "python",
   "pygments_lexer": "ipython3",
   "version": "3.11.4"
  }
 },
 "nbformat": 4,
 "nbformat_minor": 5
}
