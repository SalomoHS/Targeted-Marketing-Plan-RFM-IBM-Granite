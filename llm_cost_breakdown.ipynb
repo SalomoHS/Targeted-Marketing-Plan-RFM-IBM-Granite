{
 "cells": [
  {
   "cell_type": "markdown",
   "id": "d7892db6",
   "metadata": {},
   "source": [
    "# LLM Cost Breakdown"
   ]
  },
  {
   "cell_type": "markdown",
   "id": "19babd4c",
   "metadata": {},
   "source": [
    "- LLM configuration"
   ]
  },
  {
   "cell_type": "markdown",
   "id": "7cba80fa",
   "metadata": {},
   "source": [
    "| Parameter    | Value |\n",
    "|--------------|-------|\n",
    "| top_k        | 40    |\n",
    "| top_p        | 0.8   |\n",
    "| temperature  | 0.2   |\n"
   ]
  },
  {
   "cell_type": "markdown",
   "id": "783f164e",
   "metadata": {},
   "source": [
    "- Usage"
   ]
  },
  {
   "cell_type": "markdown",
   "id": "15efd65d",
   "metadata": {},
   "source": [
    "| Metric | Value |\n",
    "|--------|--------|\n",
    "| Total input tokens | 628,047 |\n",
    "| Total output tokens | 26,152 |\n",
    "| Average predict time | 1.53 seconds |\n"
   ]
  },
  {
   "cell_type": "markdown",
   "id": "c9902325",
   "metadata": {},
   "source": [
    "- error/success rate"
   ]
  },
  {
   "cell_type": "markdown",
   "id": "ab9d6386",
   "metadata": {},
   "source": [
    "| Status | Rate (%) |\n",
    "|--------|--------|\n",
    "| Success | 100.00% |\n",
    "| Error | 0.00% |\n"
   ]
  },
  {
   "cell_type": "markdown",
   "id": "f238415b",
   "metadata": {},
   "source": [
    "- Total usage cost: **$0.025379**"
   ]
  },
  {
   "cell_type": "markdown",
   "id": "990ff87a",
   "metadata": {},
   "source": [
    "---"
   ]
  },
  {
   "cell_type": "code",
   "execution_count": 2,
   "id": "7a95d4e0",
   "metadata": {},
   "outputs": [
    {
     "data": {
      "text/plain": [
       "True"
      ]
     },
     "execution_count": 2,
     "metadata": {},
     "output_type": "execute_result"
    }
   ],
   "source": [
    "import requests\n",
    "import os\n",
    "import pandas as pd\n",
    "from dotenv import load_dotenv\n",
    "load_dotenv() "
   ]
  },
  {
   "cell_type": "code",
   "execution_count": null,
   "id": "48d524b9",
   "metadata": {},
   "outputs": [],
   "source": [
    "url = \"https://api.replicate.com/v1/predictions\"\n",
    "headers = {\n",
    "    \"Authorization\": f\"Bearer {os.getenv('REPLICATE_API_TOKEN')}\"\n",
    "}\n",
    "\n",
    "all_predictions = []\n",
    "\n",
    "while url:\n",
    "    response = requests.get(url, headers=headers)\n",
    "    data = response.json()\n",
    "    all_predictions.extend(data.get(\"results\", []))\n",
    "    url = data.get(\"next\")"
   ]
  },
  {
   "cell_type": "code",
   "execution_count": 32,
   "id": "10c6ce69",
   "metadata": {},
   "outputs": [
    {
     "data": {
      "text/html": [
       "<div>\n",
       "<style scoped>\n",
       "    .dataframe tbody tr th:only-of-type {\n",
       "        vertical-align: middle;\n",
       "    }\n",
       "\n",
       "    .dataframe tbody tr th {\n",
       "        vertical-align: top;\n",
       "    }\n",
       "\n",
       "    .dataframe thead th {\n",
       "        text-align: right;\n",
       "    }\n",
       "</style>\n",
       "<table border=\"1\" class=\"dataframe\">\n",
       "  <thead>\n",
       "    <tr style=\"text-align: right;\">\n",
       "      <th></th>\n",
       "      <th>completed_at</th>\n",
       "      <th>created_at</th>\n",
       "      <th>data_removed</th>\n",
       "      <th>error</th>\n",
       "      <th>id</th>\n",
       "      <th>input</th>\n",
       "      <th>metrics</th>\n",
       "      <th>output</th>\n",
       "      <th>started_at</th>\n",
       "      <th>source</th>\n",
       "      <th>status</th>\n",
       "      <th>urls</th>\n",
       "      <th>model</th>\n",
       "      <th>version</th>\n",
       "    </tr>\n",
       "  </thead>\n",
       "  <tbody>\n",
       "    <tr>\n",
       "      <th>0</th>\n",
       "      <td>2025-08-01T06:03:14.610252Z</td>\n",
       "      <td>2025-08-01T06:03:13.589000Z</td>\n",
       "      <td>False</td>\n",
       "      <td>None</td>\n",
       "      <td>ypvsexsq6nrma0crcgx8b6z484</td>\n",
       "      <td>{'top_k': 40, 'top_p': 0.8, 'prompt': '\n",
       "      ...</td>\n",
       "      <td>{'input_token_count': 597, 'tokens_per_second'...</td>\n",
       "      <td>[{, \\n               ,  \", Lo, yal,  Custom, e...</td>\n",
       "      <td>2025-08-01T06:03:13.594775Z</td>\n",
       "      <td>api</td>\n",
       "      <td>succeeded</td>\n",
       "      <td>{'stream': 'https://stream-b.svc.ric1.c.replic...</td>\n",
       "      <td>ibm-granite/granite-3.3-8b-instruct</td>\n",
       "      <td>hidden</td>\n",
       "    </tr>\n",
       "    <tr>\n",
       "      <th>1</th>\n",
       "      <td>2025-08-01T05:52:37.510177Z</td>\n",
       "      <td>2025-08-01T05:52:34.817000Z</td>\n",
       "      <td>False</td>\n",
       "      <td>None</td>\n",
       "      <td>6xqnzpvr05rm80crcgra8481d4</td>\n",
       "      <td>{'top_k': 40, 'top_p': 0.8, 'prompt': '\n",
       "      ...</td>\n",
       "      <td>{'input_token_count': 842, 'tokens_per_second'...</td>\n",
       "      <td>[{, \\n               ,  \", Lo, yal,  Custom, e...</td>\n",
       "      <td>2025-08-01T05:52:34.824013Z</td>\n",
       "      <td>api</td>\n",
       "      <td>succeeded</td>\n",
       "      <td>{'stream': 'https://stream-b.svc.ric1.c.replic...</td>\n",
       "      <td>ibm-granite/granite-3.3-8b-instruct</td>\n",
       "      <td>hidden</td>\n",
       "    </tr>\n",
       "    <tr>\n",
       "      <th>2</th>\n",
       "      <td>2025-08-01T05:48:36.884733Z</td>\n",
       "      <td>2025-08-01T05:48:33.167000Z</td>\n",
       "      <td>False</td>\n",
       "      <td>None</td>\n",
       "      <td>np133qp81xrmc0crcgpazxt2g0</td>\n",
       "      <td>{'top_k': 40, 'top_p': 0.8, 'prompt': '\n",
       "      ...</td>\n",
       "      <td>{'input_token_count': 862, 'tokens_per_second'...</td>\n",
       "      <td>[{, \\n               ,  \", Lo, yal,  Custom, e...</td>\n",
       "      <td>2025-08-01T05:48:33.172999Z</td>\n",
       "      <td>api</td>\n",
       "      <td>succeeded</td>\n",
       "      <td>{'stream': 'https://stream-b.svc.ric1.c.replic...</td>\n",
       "      <td>ibm-granite/granite-3.3-8b-instruct</td>\n",
       "      <td>hidden</td>\n",
       "    </tr>\n",
       "    <tr>\n",
       "      <th>3</th>\n",
       "      <td>2025-08-01T05:47:36.379092Z</td>\n",
       "      <td>2025-08-01T05:47:32.927000Z</td>\n",
       "      <td>False</td>\n",
       "      <td>None</td>\n",
       "      <td>p8vm22ywqxrm80crcgnvk25fp8</td>\n",
       "      <td>{'top_k': 40, 'top_p': 0.8, 'prompt': '\n",
       "      ...</td>\n",
       "      <td>{'input_token_count': 861, 'tokens_per_second'...</td>\n",
       "      <td>[{, \\n               ,  \", Lo, yal,  Custom, e...</td>\n",
       "      <td>2025-08-01T05:47:32.933545Z</td>\n",
       "      <td>api</td>\n",
       "      <td>succeeded</td>\n",
       "      <td>{'stream': 'https://stream-b.svc.ric1.c.replic...</td>\n",
       "      <td>ibm-granite/granite-3.3-8b-instruct</td>\n",
       "      <td>hidden</td>\n",
       "    </tr>\n",
       "    <tr>\n",
       "      <th>4</th>\n",
       "      <td>2025-08-01T05:44:39.137712Z</td>\n",
       "      <td>2025-08-01T05:44:35.653000Z</td>\n",
       "      <td>False</td>\n",
       "      <td>None</td>\n",
       "      <td>yy91hs988nrma0crcgmsgzc04r</td>\n",
       "      <td>{'top_k': 40, 'top_p': 0.8, 'prompt': '\n",
       "      ...</td>\n",
       "      <td>{'input_token_count': 874, 'tokens_per_second'...</td>\n",
       "      <td>[{, \\n               ,  \", Lo, yal,  Custom, e...</td>\n",
       "      <td>2025-08-01T05:44:35.659215Z</td>\n",
       "      <td>api</td>\n",
       "      <td>succeeded</td>\n",
       "      <td>{'stream': 'https://stream-b.svc.ric1.c.replic...</td>\n",
       "      <td>ibm-granite/granite-3.3-8b-instruct</td>\n",
       "      <td>hidden</td>\n",
       "    </tr>\n",
       "  </tbody>\n",
       "</table>\n",
       "</div>"
      ],
      "text/plain": [
       "                  completed_at                   created_at  data_removed  \\\n",
       "0  2025-08-01T06:03:14.610252Z  2025-08-01T06:03:13.589000Z         False   \n",
       "1  2025-08-01T05:52:37.510177Z  2025-08-01T05:52:34.817000Z         False   \n",
       "2  2025-08-01T05:48:36.884733Z  2025-08-01T05:48:33.167000Z         False   \n",
       "3  2025-08-01T05:47:36.379092Z  2025-08-01T05:47:32.927000Z         False   \n",
       "4  2025-08-01T05:44:39.137712Z  2025-08-01T05:44:35.653000Z         False   \n",
       "\n",
       "  error                          id  \\\n",
       "0  None  ypvsexsq6nrma0crcgx8b6z484   \n",
       "1  None  6xqnzpvr05rm80crcgra8481d4   \n",
       "2  None  np133qp81xrmc0crcgpazxt2g0   \n",
       "3  None  p8vm22ywqxrm80crcgnvk25fp8   \n",
       "4  None  yy91hs988nrma0crcgmsgzc04r   \n",
       "\n",
       "                                               input  \\\n",
       "0  {'top_k': 40, 'top_p': 0.8, 'prompt': '\n",
       "      ...   \n",
       "1  {'top_k': 40, 'top_p': 0.8, 'prompt': '\n",
       "      ...   \n",
       "2  {'top_k': 40, 'top_p': 0.8, 'prompt': '\n",
       "      ...   \n",
       "3  {'top_k': 40, 'top_p': 0.8, 'prompt': '\n",
       "      ...   \n",
       "4  {'top_k': 40, 'top_p': 0.8, 'prompt': '\n",
       "      ...   \n",
       "\n",
       "                                             metrics  \\\n",
       "0  {'input_token_count': 597, 'tokens_per_second'...   \n",
       "1  {'input_token_count': 842, 'tokens_per_second'...   \n",
       "2  {'input_token_count': 862, 'tokens_per_second'...   \n",
       "3  {'input_token_count': 861, 'tokens_per_second'...   \n",
       "4  {'input_token_count': 874, 'tokens_per_second'...   \n",
       "\n",
       "                                              output  \\\n",
       "0  [{, \\n               ,  \", Lo, yal,  Custom, e...   \n",
       "1  [{, \\n               ,  \", Lo, yal,  Custom, e...   \n",
       "2  [{, \\n               ,  \", Lo, yal,  Custom, e...   \n",
       "3  [{, \\n               ,  \", Lo, yal,  Custom, e...   \n",
       "4  [{, \\n               ,  \", Lo, yal,  Custom, e...   \n",
       "\n",
       "                    started_at source     status  \\\n",
       "0  2025-08-01T06:03:13.594775Z    api  succeeded   \n",
       "1  2025-08-01T05:52:34.824013Z    api  succeeded   \n",
       "2  2025-08-01T05:48:33.172999Z    api  succeeded   \n",
       "3  2025-08-01T05:47:32.933545Z    api  succeeded   \n",
       "4  2025-08-01T05:44:35.659215Z    api  succeeded   \n",
       "\n",
       "                                                urls  \\\n",
       "0  {'stream': 'https://stream-b.svc.ric1.c.replic...   \n",
       "1  {'stream': 'https://stream-b.svc.ric1.c.replic...   \n",
       "2  {'stream': 'https://stream-b.svc.ric1.c.replic...   \n",
       "3  {'stream': 'https://stream-b.svc.ric1.c.replic...   \n",
       "4  {'stream': 'https://stream-b.svc.ric1.c.replic...   \n",
       "\n",
       "                                 model version  \n",
       "0  ibm-granite/granite-3.3-8b-instruct  hidden  \n",
       "1  ibm-granite/granite-3.3-8b-instruct  hidden  \n",
       "2  ibm-granite/granite-3.3-8b-instruct  hidden  \n",
       "3  ibm-granite/granite-3.3-8b-instruct  hidden  \n",
       "4  ibm-granite/granite-3.3-8b-instruct  hidden  "
      ]
     },
     "execution_count": 32,
     "metadata": {},
     "output_type": "execute_result"
    }
   ],
   "source": [
    "df_predictions = pd.DataFrame(all_predictions)\n",
    "df_predictions.head()"
   ]
  },
  {
   "cell_type": "code",
   "execution_count": 25,
   "id": "0dcf99ca",
   "metadata": {},
   "outputs": [
    {
     "name": "stdout",
     "output_type": "stream",
     "text": [
      "Error rate: 0.0%\n"
     ]
    }
   ],
   "source": [
    "error_rate = (df_predictions['error'].sum() / len(df_predictions)) * 100\n",
    "print(f\"Error rate: {error_rate}%\")"
   ]
  },
  {
   "cell_type": "code",
   "execution_count": 24,
   "id": "6e616c89",
   "metadata": {},
   "outputs": [
    {
     "name": "stdout",
     "output_type": "stream",
     "text": [
      "Success rate: 100.0%\n"
     ]
    }
   ],
   "source": [
    "success_rate = (len(df_predictions[df_predictions['status']=='succeeded']) / len(df_predictions)) * 100\n",
    "print(f\"Success rate: {success_rate}%\")"
   ]
  },
  {
   "cell_type": "code",
   "execution_count": 29,
   "id": "0bd98ac6",
   "metadata": {},
   "outputs": [
    {
     "name": "stdout",
     "output_type": "stream",
     "text": [
      "Total input tokens: 628047\n",
      "Total output tokens: 26152\n",
      "Average predict time: 1.5275120007172416 seconds\n"
     ]
    }
   ],
   "source": [
    "df_predictions[\"metrics\"] = df_predictions[\"metrics\"].apply(lambda x: ast.literal_eval(x) if isinstance(x, str) else x)\n",
    "\n",
    "total_input_tokens = df_predictions[\"metrics\"].apply(lambda m: m.get(\"input_token_count\", 0)).sum()\n",
    "total_output_tokens = df_predictions[\"metrics\"].apply(lambda m: m.get(\"output_token_count\", 0)).sum()\n",
    "avg_predict_time = df_predictions[\"metrics\"].apply(lambda m: m.get(\"predict_time\", 0)).mean()\n",
    "\n",
    "print(\"Total input tokens:\", total_input_tokens)\n",
    "print(\"Total output tokens:\", total_output_tokens)\n",
    "print(\"Average predict time:\", avg_predict_time, \"seconds\")"
   ]
  },
  {
   "cell_type": "code",
   "execution_count": 31,
   "id": "991565c3",
   "metadata": {},
   "outputs": [
    {
     "name": "stdout",
     "output_type": "stream",
     "text": [
      "Usage cost: $0.025379\n"
     ]
    }
   ],
   "source": [
    "one_million = 1000000\n",
    "output_token_price = 0.25/one_million\n",
    "input_token_price = 0.03/one_million\n",
    "\n",
    "input_cost = total_input_tokens * input_token_price\n",
    "output_cost = total_output_tokens * output_token_price\n",
    "total_cost = input_cost + output_cost\n",
    "\n",
    "print(f\"Usage cost: ${total_cost:.6f}\")"
   ]
  }
 ],
 "metadata": {
  "kernelspec": {
   "display_name": "granite",
   "language": "python",
   "name": "python3"
  },
  "language_info": {
   "codemirror_mode": {
    "name": "ipython",
    "version": 3
   },
   "file_extension": ".py",
   "mimetype": "text/x-python",
   "name": "python",
   "nbconvert_exporter": "python",
   "pygments_lexer": "ipython3",
   "version": "3.11.4"
  }
 },
 "nbformat": 4,
 "nbformat_minor": 5
}
